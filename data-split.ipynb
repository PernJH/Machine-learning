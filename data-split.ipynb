{
 "cells": [
  {
   "cell_type": "code",
   "execution_count": 2,
   "metadata": {},
   "outputs": [],
   "source": [
    "import os\n",
    "import glob\n",
    "import random\n",
    "import numpy as np\n",
    "import cv2\n",
    "import matplotlib.pyplot as plt\n",
    "import shutil"
   ]
  },
  {
   "cell_type": "code",
   "execution_count": 76,
   "metadata": {},
   "outputs": [],
   "source": [
    "#os.chdir('../../dataset/')\n",
    "for i in range(1,162):\n",
    "    os.chdir('../../dataset/')\n",
    "    os.chdir('../dataset/'+str(i))\n",
    "    os.makedirs('test')\n",
    "    os.makedirs('train')\n",
    "    os.makedirs('valid')\n",
    "    for c in random.sample(glob.glob('*.jpg'),300):\n",
    "        shutil.move(c,'train')\n",
    "    for c in random.sample(glob.glob('*.jpg'),100):\n",
    "        shutil.move(c,'test')\n",
    "    for c in random.sample(glob.glob('*.jpg'),100):\n",
    "        shutil.move(c,'valid')"
   ]
  }
 ],
 "metadata": {
  "kernelspec": {
   "display_name": "Python 3",
   "language": "python",
   "name": "python3"
  },
  "language_info": {
   "codemirror_mode": {
    "name": "ipython",
    "version": 3
   },
   "file_extension": ".py",
   "mimetype": "text/x-python",
   "name": "python",
   "nbconvert_exporter": "python",
   "pygments_lexer": "ipython3",
   "version": "3.8.5"
  }
 },
 "nbformat": 4,
 "nbformat_minor": 4
}
