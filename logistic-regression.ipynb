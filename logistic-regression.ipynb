{
 "cells": [
  {
   "cell_type": "code",
   "execution_count": 1,
   "id": "simplified-survey",
   "metadata": {},
   "outputs": [],
   "source": [
    "#import neccessary libraries\n",
    "import tensorflow as tf\n",
    "from tensorflow import keras \n",
    "import numpy as np\n",
    "%matplotlib inline\n",
    "import matplotlib.pyplot as plt\n",
    "from sklearn.utils import shuffle\n",
    "from sklearn.preprocessing import StandardScaler\n",
    "from sklearn.metrics import classification_report\n",
    "from sklearn.metrics import accuracy_score\n",
    "from sklearn.metrics import confusion_matrix"
   ]
  },
  {
   "cell_type": "code",
   "execution_count": 2,
   "id": "dated-magic",
   "metadata": {},
   "outputs": [],
   "source": [
    "#load data from file\n",
    "X_train = np.load('X_train.npy',allow_pickle=True)\n",
    "y_train = np.load('y_train.npy',allow_pickle=True)\n",
    "X_test = np.load('X_test.npy',allow_pickle=True)\n",
    "y_test = np.load('y_test.npy',allow_pickle=True)\n",
    "#X_valid = np.load('X_valid.npy',allow_pickle=True)\n",
    "#y_valid = np.load('y_valid.npy',allow_pickle=True)"
   ]
  },
  {
   "cell_type": "code",
   "execution_count": 3,
   "id": "danish-single",
   "metadata": {},
   "outputs": [],
   "source": [
    "#shuffle array in same way\n",
    "X_train, y_train = shuffle(X_train, y_train, random_state=0)\n",
    "X_test, y_test = shuffle(X_test, y_test, random_state=0)\n",
    "#X_valid, y_valid= shuffle(X_valid, y_valid, random_state=0)"
   ]
  },
  {
   "cell_type": "code",
   "execution_count": 4,
   "id": "spiritual-wildlife",
   "metadata": {},
   "outputs": [],
   "source": [
    "#rescale image\n",
    "X_train = X_train/255\n",
    "#X_valid = X_valid/255\n",
    "X_test = X_test/255"
   ]
  },
  {
   "cell_type": "code",
   "execution_count": 5,
   "id": "seeing-dodge",
   "metadata": {},
   "outputs": [
    {
     "data": {
      "text/plain": [
       "(48300, 80, 80)"
      ]
     },
     "execution_count": 5,
     "metadata": {},
     "output_type": "execute_result"
    }
   ],
   "source": [
    "X_train.shape"
   ]
  },
  {
   "cell_type": "code",
   "execution_count": 6,
   "id": "changing-girlfriend",
   "metadata": {},
   "outputs": [
    {
     "data": {
      "text/plain": [
       "(16100, 80, 80)"
      ]
     },
     "execution_count": 6,
     "metadata": {},
     "output_type": "execute_result"
    }
   ],
   "source": [
    "X_test.shape"
   ]
  },
  {
   "cell_type": "code",
   "execution_count": 7,
   "id": "neither-curve",
   "metadata": {},
   "outputs": [
    {
     "name": "stdout",
     "output_type": "stream",
     "text": [
      "[ 69  65  20 ...  81  84 106]\n"
     ]
    }
   ],
   "source": [
    "print(y_train)"
   ]
  },
  {
   "cell_type": "code",
   "execution_count": 8,
   "id": "present-luxembourg",
   "metadata": {},
   "outputs": [],
   "source": [
    "#resizee to 2d array\n",
    "nsamples, nx, ny = X_train.shape\n",
    "X_train = X_train.reshape((nsamples,nx*ny))\n",
    "\n",
    "nsamples, nx, ny = X_test.shape\n",
    "X_test = X_test.reshape((nsamples,nx*ny))"
   ]
  },
  {
   "cell_type": "code",
   "execution_count": 9,
   "id": "atlantic-culture",
   "metadata": {},
   "outputs": [],
   "source": [
    "from sklearn.linear_model import LogisticRegression"
   ]
  },
  {
   "cell_type": "code",
   "execution_count": 10,
   "id": "smart-bhutan",
   "metadata": {},
   "outputs": [],
   "source": [
    "logisticReg=LogisticRegression()"
   ]
  },
  {
   "cell_type": "code",
   "execution_count": 11,
   "id": "guided-document",
   "metadata": {},
   "outputs": [
    {
     "name": "stderr",
     "output_type": "stream",
     "text": [
      "C:\\Users\\chean\\anaconda3\\envs\\gputest\\lib\\site-packages\\sklearn\\linear_model\\_logistic.py:763: ConvergenceWarning: lbfgs failed to converge (status=1):\n",
      "STOP: TOTAL NO. of ITERATIONS REACHED LIMIT.\n",
      "\n",
      "Increase the number of iterations (max_iter) or scale the data as shown in:\n",
      "    https://scikit-learn.org/stable/modules/preprocessing.html\n",
      "Please also refer to the documentation for alternative solver options:\n",
      "    https://scikit-learn.org/stable/modules/linear_model.html#logistic-regression\n",
      "  n_iter_i = _check_optimize_result(\n"
     ]
    },
    {
     "data": {
      "text/plain": [
       "LogisticRegression()"
      ]
     },
     "execution_count": 11,
     "metadata": {},
     "output_type": "execute_result"
    }
   ],
   "source": [
    "logisticReg.fit(X_train, y_train)"
   ]
  },
  {
   "cell_type": "code",
   "execution_count": 12,
   "id": "christian-median",
   "metadata": {},
   "outputs": [],
   "source": [
    "predictions=logisticReg.predict(X_test)"
   ]
  },
  {
   "cell_type": "code",
   "execution_count": 13,
   "id": "pressing-packing",
   "metadata": {},
   "outputs": [
    {
     "name": "stdout",
     "output_type": "stream",
     "text": [
      "0.7198136645962733\n"
     ]
    }
   ],
   "source": [
    "# Use score method to get accuracy of model\n",
    "score = logisticReg.score(X_test, y_test)\n",
    "print(score)"
   ]
  },
  {
   "cell_type": "code",
   "execution_count": 14,
   "id": "authentic-michigan",
   "metadata": {},
   "outputs": [],
   "source": [
    "#ConfusionMatrixmethod \n",
    "import matplotlib.pyplot as plt\n",
    "import seaborn as sns\n",
    "from sklearn import metrics"
   ]
  },
  {
   "cell_type": "code",
   "execution_count": 15,
   "id": "legal-newsletter",
   "metadata": {},
   "outputs": [
    {
     "name": "stdout",
     "output_type": "stream",
     "text": [
      "              precision    recall  f1-score   support\n",
      "\n",
      "           0       0.79      0.77      0.78       100\n",
      "           1       0.95      0.94      0.94       100\n",
      "           2       0.80      0.86      0.83       100\n",
      "           3       0.82      0.84      0.83       100\n",
      "           4       0.86      0.92      0.89       100\n",
      "           5       0.89      0.89      0.89       100\n",
      "           6       0.84      0.87      0.86       100\n",
      "           7       0.84      0.89      0.86       100\n",
      "           8       0.68      0.80      0.74       100\n",
      "           9       0.69      0.68      0.68       100\n",
      "          10       0.65      0.63      0.64       100\n",
      "          11       0.72      0.81      0.76       100\n",
      "          12       0.61      0.65      0.63       100\n",
      "          13       0.60      0.80      0.69       100\n",
      "          14       0.92      0.93      0.93       100\n",
      "          15       0.71      0.73      0.72       100\n",
      "          16       0.75      0.69      0.72       100\n",
      "          17       0.69      0.72      0.71       100\n",
      "          18       0.94      0.96      0.95       100\n",
      "          19       0.87      0.88      0.88       100\n",
      "          20       0.93      0.98      0.96       100\n",
      "          21       0.62      0.48      0.54       100\n",
      "          22       0.86      0.85      0.85       100\n",
      "          23       0.69      0.68      0.69       100\n",
      "          24       0.84      0.79      0.81       100\n",
      "          25       0.84      0.85      0.85       100\n",
      "          26       0.50      0.58      0.54       100\n",
      "          27       0.98      0.92      0.95       100\n",
      "          28       0.71      0.84      0.77       100\n",
      "          29       0.16      0.10      0.12       100\n",
      "          30       0.99      1.00      1.00       100\n",
      "          31       0.60      0.62      0.61       100\n",
      "          32       0.91      0.99      0.95       100\n",
      "          33       0.84      0.85      0.85       100\n",
      "          34       0.56      0.58      0.57       100\n",
      "          35       0.52      0.49      0.50       100\n",
      "          36       0.52      0.41      0.46       100\n",
      "          37       0.80      0.84      0.82       100\n",
      "          38       0.64      0.61      0.62       100\n",
      "          39       0.63      0.65      0.64       100\n",
      "          40       0.97      0.94      0.95       100\n",
      "          41       0.81      0.85      0.83       100\n",
      "          42       0.96      0.88      0.92       100\n",
      "          43       0.71      0.70      0.70       100\n",
      "          44       0.72      0.71      0.72       100\n",
      "          45       0.52      0.45      0.48       100\n",
      "          46       0.95      0.98      0.97       100\n",
      "          47       0.64      0.63      0.63       100\n",
      "          48       0.77      0.90      0.83       100\n",
      "          49       0.83      0.85      0.84       100\n",
      "          50       0.44      0.38      0.41       100\n",
      "          51       0.63      0.72      0.67       100\n",
      "          52       0.58      0.64      0.61       100\n",
      "          53       0.36      0.36      0.36       100\n",
      "          54       0.48      0.41      0.44       100\n",
      "          55       0.52      0.51      0.52       100\n",
      "          56       0.64      0.70      0.67       100\n",
      "          57       0.39      0.29      0.33       100\n",
      "          58       0.56      0.50      0.53       100\n",
      "          59       0.42      0.40      0.41       100\n",
      "          60       0.73      0.79      0.76       100\n",
      "          61       0.68      0.81      0.74       100\n",
      "          62       0.66      0.52      0.58       100\n",
      "          63       0.73      0.81      0.77       100\n",
      "          64       0.87      0.92      0.89       100\n",
      "          65       0.72      0.73      0.72       100\n",
      "          66       0.67      0.62      0.64       100\n",
      "          67       0.88      0.86      0.87       100\n",
      "          68       0.74      0.67      0.71       100\n",
      "          69       0.87      0.79      0.83       100\n",
      "          70       0.39      0.31      0.35       100\n",
      "          71       0.43      0.40      0.42       100\n",
      "          72       0.56      0.57      0.57       100\n",
      "          73       0.78      0.80      0.79       100\n",
      "          74       0.72      0.78      0.75       100\n",
      "          75       0.73      0.85      0.78       100\n",
      "          76       0.59      0.57      0.58       100\n",
      "          77       0.79      0.79      0.79       100\n",
      "          78       0.75      0.90      0.82       100\n",
      "          79       0.55      0.56      0.56       100\n",
      "          80       0.95      0.91      0.93       100\n",
      "          81       0.85      0.94      0.90       100\n",
      "          82       0.73      0.85      0.79       100\n",
      "          83       0.85      0.88      0.87       100\n",
      "          84       0.62      0.52      0.57       100\n",
      "          85       0.89      0.85      0.87       100\n",
      "          86       0.75      0.75      0.75       100\n",
      "          87       0.61      0.60      0.60       100\n",
      "          88       0.85      0.90      0.87       100\n",
      "          89       0.43      0.40      0.41       100\n",
      "          90       0.76      0.81      0.79       100\n",
      "          91       0.78      0.80      0.79       100\n",
      "          92       0.55      0.48      0.51       100\n",
      "          93       0.77      0.94      0.85       100\n",
      "          94       0.72      0.76      0.74       100\n",
      "          95       0.61      0.59      0.60       100\n",
      "          96       0.77      0.73      0.75       100\n",
      "          97       0.91      0.93      0.92       100\n",
      "          98       0.78      0.85      0.81       100\n",
      "          99       0.71      0.69      0.70       100\n",
      "         100       0.71      0.70      0.71       100\n",
      "         101       0.76      0.84      0.80       100\n",
      "         102       0.76      0.92      0.83       100\n",
      "         103       0.65      0.65      0.65       100\n",
      "         104       0.68      0.70      0.69       100\n",
      "         105       0.54      0.56      0.55       100\n",
      "         106       0.89      0.86      0.87       100\n",
      "         107       0.70      0.74      0.72       100\n",
      "         108       0.59      0.73      0.65       100\n",
      "         109       0.61      0.65      0.63       100\n",
      "         110       0.55      0.50      0.52       100\n",
      "         111       0.81      0.80      0.80       100\n",
      "         112       0.68      0.55      0.61       100\n",
      "         113       0.53      0.56      0.54       100\n",
      "         114       0.62      0.50      0.55       100\n",
      "         115       0.96      0.98      0.97       100\n",
      "         116       0.77      0.79      0.78       100\n",
      "         117       0.50      0.51      0.51       100\n",
      "         118       0.93      0.80      0.86       100\n",
      "         119       0.91      0.93      0.92       100\n",
      "         120       0.64      0.45      0.53       100\n",
      "         121       0.68      0.59      0.63       100\n",
      "         122       0.88      0.92      0.90       100\n",
      "         123       0.62      0.64      0.63       100\n",
      "         124       0.81      0.88      0.84       100\n",
      "         125       0.74      0.70      0.72       100\n",
      "         126       0.52      0.44      0.48       100\n",
      "         127       0.81      0.83      0.82       100\n",
      "         128       0.71      0.58      0.64       100\n",
      "         129       0.93      0.92      0.92       100\n",
      "         130       0.46      0.43      0.45       100\n",
      "         131       0.78      0.79      0.79       100\n",
      "         132       0.90      0.90      0.90       100\n",
      "         133       0.90      0.93      0.92       100\n",
      "         134       0.86      0.99      0.92       100\n",
      "         135       0.76      0.77      0.77       100\n",
      "         136       0.48      0.44      0.46       100\n",
      "         137       0.70      0.78      0.74       100\n",
      "         138       0.87      0.88      0.88       100\n",
      "         139       0.71      0.71      0.71       100\n",
      "         140       0.65      0.68      0.66       100\n",
      "         141       0.83      0.85      0.84       100\n",
      "         142       0.69      0.61      0.65       100\n",
      "         143       0.77      0.86      0.81       100\n",
      "         144       0.83      0.83      0.83       100\n",
      "         145       0.59      0.62      0.60       100\n",
      "         146       0.81      0.75      0.78       100\n",
      "         147       0.60      0.54      0.57       100\n",
      "         148       0.86      0.96      0.91       100\n",
      "         149       0.43      0.49      0.46       100\n",
      "         150       0.98      0.95      0.96       100\n",
      "         151       0.59      0.54      0.56       100\n",
      "         152       0.73      0.80      0.76       100\n",
      "         153       0.86      0.97      0.91       100\n",
      "         154       0.69      0.66      0.67       100\n",
      "         155       0.58      0.64      0.61       100\n",
      "         156       0.68      0.70      0.69       100\n",
      "         157       0.93      1.00      0.96       100\n",
      "         158       0.51      0.46      0.48       100\n",
      "         159       0.69      0.46      0.55       100\n",
      "         160       0.44      0.28      0.34       100\n",
      "\n",
      "    accuracy                           0.72     16100\n",
      "   macro avg       0.71      0.72      0.72     16100\n",
      "weighted avg       0.71      0.72      0.72     16100\n",
      "\n",
      "Accuracy: 0.7198136645962733\n"
     ]
    }
   ],
   "source": [
    "print(classification_report(y_test,predictions))\n",
    "print(\"Accuracy:\",accuracy_score(y_test,predictions))"
   ]
  },
  {
   "cell_type": "code",
   "execution_count": 16,
   "id": "split-physiology",
   "metadata": {},
   "outputs": [
    {
     "name": "stdout",
     "output_type": "stream",
     "text": [
      "[[77  0  0 ...  0  0  0]\n",
      " [ 0 94  0 ...  0  0  0]\n",
      " [ 0  0 86 ...  0  0  0]\n",
      " ...\n",
      " [ 1  0  0 ... 46  1  0]\n",
      " [ 0  0  0 ...  1 46  1]\n",
      " [ 0  0  0 ...  2  0 28]]\n"
     ]
    }
   ],
   "source": [
    "cm = metrics.confusion_matrix(y_test, predictions)\n",
    "print(cm)"
   ]
  },
  {
   "cell_type": "code",
   "execution_count": 17,
   "id": "compressed-solid",
   "metadata": {},
   "outputs": [
    {
     "data": {
      "image/png": "[encoded data removed]",
      "text/plain": [
       "<Figure size 648x648 with 2 Axes>"
      ]
     },
     "metadata": {
      "needs_background": "light"
     },
     "output_type": "display_data"
    }
   ],
   "source": [
    "cm = confusion_matrix(y_test, predictions)\n",
    "score = accuracy_score(y_test,predictions)\n",
    "plt.figure(figsize=(9,9))\n",
    "sns.heatmap(cm[0:10,0:10], annot=True, fmt=\" .2f\", linewidth=0.5, square=True, cmap=\"Blues_r\")\n",
    "plt.ylabel(\"Actual label\")\n",
    "plt.xlabel(\"Predicted label\")\n",
    "plt.title('Accuracy Score: {0}'.format(score), size=15)\n",
    "plt.show()"
   ]
  },
  {
   "cell_type": "code",
   "execution_count": 18,
   "id": "copyrighted-tonight",
   "metadata": {},
   "outputs": [
    {
     "data": {
      "text/plain": [
       "1.2752783723184329"
      ]
     },
     "execution_count": 18,
     "metadata": {},
     "output_type": "execute_result"
    }
   ],
   "source": [
    "from sklearn.metrics import log_loss\n",
    "pred_proba = logisticReg.predict_proba(X_test)\n",
    "log_loss(y_test,pred_proba)"
   ]
  }
 ],
 "metadata": {
  "kernelspec": {
   "display_name": "gputest",
   "language": "python",
   "name": "gputest"
  },
  "language_info": {
   "codemirror_mode": {
    "name": "ipython",
    "version": 3
   },
   "file_extension": ".py",
   "mimetype": "text/x-python",
   "name": "python",
   "nbconvert_exporter": "python",
   "pygments_lexer": "ipython3",
   "version": "3.8.5"
  }
 },
 "nbformat": 4,
 "nbformat_minor": 5
}
