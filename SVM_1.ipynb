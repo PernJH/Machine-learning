{
  "nbformat": 4,
  "nbformat_minor": 0,
  "metadata": {
    "colab": {
      "name": "SVM_1.ipynb",
      "provenance": [],
      "collapsed_sections": [],
      "machine_shape": "hm"
    },
    "kernelspec": {
      "name": "python3",
      "display_name": "Python 3"
    },
    "accelerator": "GPU"
  },
  "cells": [
    {
      "cell_type": "code",
      "metadata": {
        "id": "aYo_3tl5myVq"
      },
      "source": ["#Use numpy and sklearn to preprocess data\n",
        "import numpy as np\n",
        "from sklearn import svm\n",
        "from sklearn.utils import shuffle\n",
        "import matplotlib.pyplot as plt\n",
        "\n",
        "from google.colab import drive\n",
        "%matplotlib inline"
      ],
      "execution_count": null,
      "outputs": []
    },
    {
      "cell_type": "code",
      "metadata": {
        "colab": {
          "base_uri": "https://localhost:8080/"
        },
        "id": "p-CaW2B1mzGW",
        "outputId": "c3bde7f3-63ab-4a10-9f40-48443d5a960f"
      },
      "source": [
        "drive.mount('/content/drive')"
      ],
      "execution_count": null,
      "outputs": [
        {
          "output_type": "stream",
          "text": [
            "Mounted at /content/drive\n"
          ],
          "name": "stdout"
        }
      ]
    },
    {
      "cell_type": "code",
      "metadata": {
        "id": "aVG-kZllm2w0"
      },
      "source": [ "# Set  the 3 categories of data\n",
        "X_train = np.load('/content/drive/Shareddrives/MachineLearning/project_dataset/X_train.npy')\n",
        "X_valid = np.load('/content/drive/Shareddrives/MachineLearning/project_dataset/X_valid.npy')\n",
        "X_test = np.load('/content/drive/Shareddrives/MachineLearning/project_dataset/X_test.npy')\n",
        "y_train = np.load('/content/drive/Shareddrives/MachineLearning/project_dataset/y_train.npy')\n",
        "y_valid = np.load('/content/drive/Shareddrives/MachineLearning/project_dataset/y_valid.npy')\n",
        "y_test = np.load('/content/drive/Shareddrives/MachineLearning/project_dataset/y_test.npy')"
      ],
      "execution_count": null,
      "outputs": []
    },
    {
      "cell_type": "code",
      "metadata": {
        "id": "0bo_sgbZxwGv"
      },
      "source": [ "#Shuffle the data to rearrange the sequence\n",
        "X_train, y_train = shuffle(X_train, y_train, random_state=0)\n",
        "X_valid, y_valid= shuffle(X_valid, y_valid, random_state=0)\n",
        "X_test, y_test = shuffle(X_test, y_test, random_state=0)"
      ],
      "execution_count": null,
      "outputs": []
    },
    {
      "cell_type": "code",
      "metadata": {
        "id": "K0AMKfG8nsBm"
      },
      "source": [" #Compress data to reduce time taken for processing data\n",
        "X_train = X_train / 255\n",
        "X_valid = X_valid / 255\n",
        "X_test = X_test / 255\n",
        "X_train = X_train[...,np.newaxis]\n",
        "X_valid = X_valid[...,np.newaxis]\n",
        "X_test = X_test[...,np.newaxis]"
      ],
      "execution_count": null,
      "outputs": []
    },
    {
      "cell_type": "code",
      "metadata": {
        "colab": {
          "base_uri": "https://localhost:8080/"
        },
        "id": "-OINzRHmnyAn",
        "outputId": "c9d1b684-9dac-4c24-c8d7-7246c2f331e2"
      },
      "source": [
        "M = X_train.shape[0]\n",
        "X_train = X_train.reshape(M,-1)\n",
        "print(X_train.shape)\n",
        "print(y_train.shape)"
      ],
      "execution_count": null,
      "outputs": [
        {
          "output_type": "stream",
          "text": [
            "(48300, 8100)\n",
            "(48300,)\n"
          ],
          "name": "stdout"
        }
      ]
    },
    {
      "cell_type": "code",
      "metadata": {
        "colab": {
          "base_uri": "https://localhost:8080/"
        },
        "id": "E1OyXnPFn7Vk",
        "outputId": "4b77bb3b-8a03-45f2-e5fb-9855b5e3cc3c"
      },
      "source": [
        "clf = svm.SVC(kernel='linear', C=1.0)\n",
        "clf.fit(X_train, y_train)"
      ],
      "execution_count": null,
      "outputs": [
        {
          "output_type": "execute_result",
          "data": {
            "text/plain": [
              "SVC(C=1.0, break_ties=False, cache_size=200, class_weight=None, coef0=0.0,\n",
              "    decision_function_shape='ovr', degree=3, gamma='scale', kernel='linear',\n",
              "    max_iter=-1, probability=False, random_state=None, shrinking=True,\n",
              "    tol=0.001, verbose=False)"
            ]
          },
          "metadata": {
            "tags": []
          },
          "execution_count": 7
        }
      ]
    },
    {
      "cell_type": "code",
      "metadata": {
        "id": "cqVVyRnHUaRr"
      },
      "source": [
        "#Use pickle to save the trained model for future test\n",
        "import pickle\n",
        "pkl_filename = \"svm_cyh.pkl\"\n",
        "with open(pkl_filename, 'wb') as file:\n",
        "  pickle.dump(clf, file)"
      ],
      "execution_count": null,
      "outputs": []
    }
  ]
}
