{
 "cells": [
  {
   "cell_type": "code",
   "execution_count": 1,
   "metadata": {},
   "outputs": [],
   "source": [
    "#import neccessary libraries\n",
    "import tensorflow as tf\n",
    "from tensorflow import keras \n",
    "import numpy as np\n",
    "%matplotlib inline\n",
    "import matplotlib.pyplot as plt\n",
    "from sklearn.utils import shuffle\n",
    "from tensorflow.keras import regularizers\n",
    "from sklearn.metrics import confusion_matrix\n",
    "import seaborn as sns\n",
    "from sklearn.metrics import classification_report"
   ]
  },
  {
   "cell_type": "code",
   "execution_count": 2,
   "metadata": {},
   "outputs": [],
   "source": [
    "#load data from file\n",
    "X_train = np.load('80/X_train.npy',allow_pickle=True)\n",
    "y_train = np.load('80/y_train.npy',allow_pickle=True)\n",
    "X_test = np.load('80/X_test.npy',allow_pickle=True)\n",
    "y_test = np.load('80/y_test.npy',allow_pickle=True)\n",
    "X_valid = np.load('80/X_valid.npy',allow_pickle=True)\n",
    "y_valid = np.load('80/y_valid.npy',allow_pickle=True)"
   ]
  },
  {
   "cell_type": "code",
   "execution_count": 3,
   "metadata": {},
   "outputs": [],
   "source": [
    "#shuffle array in same way\n",
    "X_train, y_train = shuffle(X_train, y_train, random_state=0)\n",
    "X_test, y_test = shuffle(X_test, y_test, random_state=0)\n",
    "X_valid, y_valid= shuffle(X_valid, y_valid, random_state=0)"
   ]
  },
  {
   "cell_type": "code",
   "execution_count": 4,
   "metadata": {},
   "outputs": [],
   "source": [
    "#rescale image\n",
    "X_train = X_train/255\n",
    "X_valid = X_valid/255\n",
    "X_test = X_test/255"
   ]
  },
  {
   "cell_type": "code",
   "execution_count": 5,
   "metadata": {},
   "outputs": [],
   "source": [
    "X_train = X_train[...,np.newaxis]\n",
    "X_valid = X_valid[...,np.newaxis]\n",
    "X_test = X_test[...,np.newaxis]"
   ]
  },
  {
   "cell_type": "code",
   "execution_count": 6,
   "metadata": {},
   "outputs": [
    {
     "data": {
      "text/plain": [
       "(48300, 80, 80, 1)"
      ]
     },
     "execution_count": 6,
     "metadata": {},
     "output_type": "execute_result"
    }
   ],
   "source": [
    "X_train.shape"
   ]
  },
  {
   "cell_type": "code",
   "execution_count": 7,
   "metadata": {},
   "outputs": [
    {
     "data": {
      "text/plain": [
       "(16100, 80, 80, 1)"
      ]
     },
     "execution_count": 7,
     "metadata": {},
     "output_type": "execute_result"
    }
   ],
   "source": [
    "X_test.shape"
   ]
  },
  {
   "cell_type": "code",
   "execution_count": 8,
   "metadata": {},
   "outputs": [
    {
     "data": {
      "text/plain": [
       "(16100, 80, 80, 1)"
      ]
     },
     "execution_count": 8,
     "metadata": {},
     "output_type": "execute_result"
    }
   ],
   "source": [
    "X_valid.shape"
   ]
  },
  {
   "cell_type": "code",
   "execution_count": 9,
   "metadata": {},
   "outputs": [
    {
     "name": "stdout",
     "output_type": "stream",
     "text": [
      "[ 69  65  20 ...  81  84 106]\n"
     ]
    }
   ],
   "source": [
    "print(y_train)"
   ]
  },
  {
   "cell_type": "code",
   "execution_count": 10,
   "metadata": {},
   "outputs": [],
   "source": [
    "model = tf.keras.Sequential()\n",
    "\n",
    "model.add(keras.layers.Conv2D(16,kernel_size=(3,3),padding='valid',activation='relu', kernel_regularizer=regularizers.l2(l=0.01),input_shape=(80,80,1)))\n",
    "\n",
    "model.add(keras.layers.MaxPooling2D(pool_size=(2,2)))\n",
    "\n",
    "model.add(keras.layers.Conv2D(32,kernel_size=(3,3),padding='valid',activation='relu', kernel_regularizer=regularizers.l2(l=0.01)))\n",
    "\n",
    "model.add(keras.layers.MaxPooling2D(pool_size=(2,2)))\n",
    "\n",
    "model.add(keras.layers.Conv2D(64,kernel_size=(3,3),padding='valid',activation='relu', kernel_regularizer=regularizers.l2(l=0.01)))\n",
    "\n",
    "model.add(keras.layers.MaxPooling2D(pool_size=(2,2)))\n",
    "\n",
    "model.add(keras.layers.Flatten())\n",
    "\n",
    "model.add(keras.layers.Dense(128,activation='relu'))\n",
    "\n",
    "model.add(keras.layers.Dropout(0.1))\n",
    "\n",
    "model.add(keras.layers.Dense(64,activation='relu'))\n",
    "\n",
    "model.add(keras.layers.Dense(161,activation='softmax'))"
   ]
  },
  {
   "cell_type": "code",
   "execution_count": 11,
   "metadata": {},
   "outputs": [
    {
     "name": "stdout",
     "output_type": "stream",
     "text": [
      "Model: \"sequential\"\n",
      "_________________________________________________________________\n",
      "Layer (type)                 Output Shape              Param #   \n",
      "=================================================================\n",
      "conv2d (Conv2D)              (None, 78, 78, 16)        160       \n",
      "_________________________________________________________________\n",
      "max_pooling2d (MaxPooling2D) (None, 39, 39, 16)        0         \n",
      "_________________________________________________________________\n",
      "conv2d_1 (Conv2D)            (None, 37, 37, 32)        4640      \n",
      "_________________________________________________________________\n",
      "max_pooling2d_1 (MaxPooling2 (None, 18, 18, 32)        0         \n",
      "_________________________________________________________________\n",
      "conv2d_2 (Conv2D)            (None, 16, 16, 64)        18496     \n",
      "_________________________________________________________________\n",
      "max_pooling2d_2 (MaxPooling2 (None, 8, 8, 64)          0         \n",
      "_________________________________________________________________\n",
      "flatten (Flatten)            (None, 4096)              0         \n",
      "_________________________________________________________________\n",
      "dense (Dense)                (None, 128)               524416    \n",
      "_________________________________________________________________\n",
      "dropout (Dropout)            (None, 128)               0         \n",
      "_________________________________________________________________\n",
      "dense_1 (Dense)              (None, 64)                8256      \n",
      "_________________________________________________________________\n",
      "dense_2 (Dense)              (None, 161)               10465     \n",
      "=================================================================\n",
      "Total params: 566,433\n",
      "Trainable params: 566,433\n",
      "Non-trainable params: 0\n",
      "_________________________________________________________________\n"
     ]
    }
   ],
   "source": [
    "model.summary()"
   ]
  },
  {
   "cell_type": "code",
   "execution_count": 12,
   "metadata": {},
   "outputs": [],
   "source": [
    "#optimizerr if output is integer use sparse\n",
    "model.compile(optimizer='adam',loss='sparse_categorical_crossentropy',metrics=['accuracy'])"
   ]
  },
  {
   "cell_type": "code",
   "execution_count": 13,
   "metadata": {},
   "outputs": [
    {
     "name": "stdout",
     "output_type": "stream",
     "text": [
      "Epoch 1/20\n",
      "1510/1510 - 15s - loss: 3.1492 - accuracy: 0.2836 - val_loss: 1.9203 - val_accuracy: 0.5353\n",
      "Epoch 2/20\n",
      "1510/1510 - 11s - loss: 1.7466 - accuracy: 0.5693 - val_loss: 1.3120 - val_accuracy: 0.6820\n",
      "Epoch 3/20\n",
      "1510/1510 - 11s - loss: 1.3687 - accuracy: 0.6573 - val_loss: 1.0847 - val_accuracy: 0.7381\n",
      "Epoch 4/20\n",
      "1510/1510 - 11s - loss: 1.1613 - accuracy: 0.7110 - val_loss: 0.9498 - val_accuracy: 0.7703\n",
      "Epoch 5/20\n",
      "1510/1510 - 11s - loss: 1.0265 - accuracy: 0.7458 - val_loss: 0.8338 - val_accuracy: 0.8040\n",
      "Epoch 6/20\n",
      "1510/1510 - 12s - loss: 0.9139 - accuracy: 0.7741 - val_loss: 0.7776 - val_accuracy: 0.8161\n",
      "Epoch 7/20\n",
      "1510/1510 - 11s - loss: 0.8281 - accuracy: 0.7959 - val_loss: 0.7405 - val_accuracy: 0.8272\n",
      "Epoch 8/20\n",
      "1510/1510 - 11s - loss: 0.7569 - accuracy: 0.8127 - val_loss: 0.6765 - val_accuracy: 0.8430\n",
      "Epoch 9/20\n",
      "1510/1510 - 11s - loss: 0.6989 - accuracy: 0.8281 - val_loss: 0.6417 - val_accuracy: 0.8534\n",
      "Epoch 10/20\n",
      "1510/1510 - 11s - loss: 0.6440 - accuracy: 0.8435 - val_loss: 0.5855 - val_accuracy: 0.8717\n",
      "Epoch 11/20\n",
      "1510/1510 - 12s - loss: 0.6045 - accuracy: 0.8533 - val_loss: 0.5877 - val_accuracy: 0.8671\n",
      "Epoch 12/20\n",
      "1510/1510 - 12s - loss: 0.5707 - accuracy: 0.8633 - val_loss: 0.5613 - val_accuracy: 0.8781\n",
      "Epoch 13/20\n",
      "1510/1510 - 12s - loss: 0.5322 - accuracy: 0.8722 - val_loss: 0.5391 - val_accuracy: 0.8822\n",
      "Epoch 14/20\n",
      "1510/1510 - 13s - loss: 0.5129 - accuracy: 0.8783 - val_loss: 0.5345 - val_accuracy: 0.8801\n",
      "Epoch 15/20\n",
      "1510/1510 - 13s - loss: 0.4852 - accuracy: 0.8846 - val_loss: 0.5015 - val_accuracy: 0.8907\n",
      "Epoch 16/20\n",
      "1510/1510 - 14s - loss: 0.4612 - accuracy: 0.8900 - val_loss: 0.5271 - val_accuracy: 0.8803\n",
      "Epoch 17/20\n",
      "1510/1510 - 14s - loss: 0.4438 - accuracy: 0.8942 - val_loss: 0.4849 - val_accuracy: 0.8954\n",
      "Epoch 18/20\n",
      "1510/1510 - 14s - loss: 0.4144 - accuracy: 0.9028 - val_loss: 0.4676 - val_accuracy: 0.8998\n",
      "Epoch 19/20\n",
      "1510/1510 - 14s - loss: 0.4007 - accuracy: 0.9065 - val_loss: 0.4882 - val_accuracy: 0.8918\n",
      "Epoch 20/20\n",
      "1510/1510 - 15s - loss: 0.3854 - accuracy: 0.9095 - val_loss: 0.4602 - val_accuracy: 0.9014\n"
     ]
    }
   ],
   "source": [
    "#perfomance\n",
    "history = model.fit(X_train,y_train,epochs=20,validation_data=(X_valid,y_valid),verbose=2)"
   ]
  },
  {
   "cell_type": "code",
   "execution_count": 14,
   "metadata": {},
   "outputs": [
    {
     "data": {
      "image/png": "[encoded data removed]",
      "text/plain": [
       "<Figure size 576x576 with 2 Axes>"
      ]
     },
     "metadata": {
      "needs_background": "light"
     },
     "output_type": "display_data"
    }
   ],
   "source": [
    "acc = history.history['accuracy']\n",
    "val_acc = history.history['val_accuracy']\n",
    "\n",
    "loss = history.history['loss']\n",
    "val_loss = history.history['val_loss']\n",
    "\n",
    "epochs_range = range(20) #num of epoch\n",
    "\n",
    "plt.figure(figsize=(8,8))\n",
    "\n",
    "#1 row 2 columnn\n",
    "plt.subplot(1,2,1)\n",
    "plt.plot(epochs_range,acc,label='Trainning Accuracy')\n",
    "plt.plot(epochs_range,val_acc,label='Validation Accuracy')\n",
    "plt.legend(loc='lower right')\n",
    "plt.title(\"Trainingg and Validation Accuracy\")\n",
    "\n",
    "plt.subplot(1,2,2)\n",
    "plt.plot(epochs_range,loss,label='Trainning Loss')\n",
    "plt.plot(epochs_range,val_loss,label='Validation Loss')\n",
    "plt.legend(loc='lower right')\n",
    "plt.title(\"Trainingg and Validation Loss\")\n",
    "plt.show()"
   ]
  },
  {
   "cell_type": "code",
   "execution_count": 15,
   "metadata": {},
   "outputs": [
    {
     "name": "stdout",
     "output_type": "stream",
     "text": [
      "504/504 [==============================] - 4s 8ms/step - loss: 0.4690 - accuracy: 0.8971\n",
      "[0.4690314829349518, 0.8970807194709778]\n"
     ]
    }
   ],
   "source": [
    "score = model.evaluate(X_test,y_test)\n",
    "print(score)"
   ]
  },
  {
   "cell_type": "code",
   "execution_count": 16,
   "metadata": {},
   "outputs": [
    {
     "name": "stdout",
     "output_type": "stream",
     "text": [
      "[ 89 104  52  81 130  69  21  98  22  53 116  24  11  96   9]\n",
      "[ 89 104  52  81  34  69  21  98  22  53 116  24  11  96   9]\n"
     ]
    }
   ],
   "source": [
    "X_new = X_test[0:15]\n",
    "y_pred = model.predict(X_new)\n",
    "print(np.argmax(y_pred,axis=-1)) #predicted label\n",
    "print(y_test[0:15]) #actual label"
   ]
  },
  {
   "cell_type": "code",
   "execution_count": 17,
   "metadata": {},
   "outputs": [
    {
     "data": {
      "image/png": "[encoded data removed]",
      "text/plain": [
       "<Figure size 648x648 with 2 Axes>"
      ]
     },
     "metadata": {
      "needs_background": "light"
     },
     "output_type": "display_data"
    }
   ],
   "source": [
    "predictions = model.predict(X_test)\n",
    "predictions = np.argmax(predictions, axis=1)\n",
    "cm = confusion_matrix(y_test, predictions)\n",
    "plt.figure(figsize=(9,9))\n",
    "sns.heatmap(cm[0:10,0:10], annot=True, fmt=\" .2f\", linewidth=0.5, square=True, cmap=\"Blues_r\")\n",
    "plt.ylabel(\"Actual label\")\n",
    "plt.xlabel(\"Predicted label\")\n",
    "plt.title('Accuracy Score: {0}'.format(score[1]), size=15)\n",
    "plt.show()"
   ]
  },
  {
   "cell_type": "code",
   "execution_count": 18,
   "metadata": {},
   "outputs": [
    {
     "name": "stdout",
     "output_type": "stream",
     "text": [
      "              precision    recall  f1-score   support\n",
      "\n",
      "           0       0.93      0.86      0.90       100\n",
      "           1       0.97      0.95      0.96       100\n",
      "           2       0.93      0.98      0.96       100\n",
      "           3       0.99      0.99      0.99       100\n",
      "           4       0.95      0.99      0.97       100\n",
      "           5       0.96      0.97      0.97       100\n",
      "           6       0.97      0.95      0.96       100\n",
      "           7       0.93      0.96      0.95       100\n",
      "           8       0.81      0.98      0.89       100\n",
      "           9       0.92      0.88      0.90       100\n",
      "          10       0.83      0.95      0.89       100\n",
      "          11       0.92      0.99      0.95       100\n",
      "          12       0.81      0.88      0.84       100\n",
      "          13       0.77      0.88      0.82       100\n",
      "          14       1.00      0.97      0.98       100\n",
      "          15       0.75      0.97      0.84       100\n",
      "          16       0.81      0.85      0.83       100\n",
      "          17       0.95      0.87      0.91       100\n",
      "          18       0.97      0.99      0.98       100\n",
      "          19       0.96      0.98      0.97       100\n",
      "          20       0.98      0.99      0.99       100\n",
      "          21       0.83      0.59      0.69       100\n",
      "          22       0.96      0.98      0.97       100\n",
      "          23       0.91      0.87      0.89       100\n",
      "          24       0.94      0.93      0.93       100\n",
      "          25       0.98      0.96      0.97       100\n",
      "          26       0.78      0.87      0.82       100\n",
      "          27       1.00      1.00      1.00       100\n",
      "          28       0.92      0.98      0.95       100\n",
      "          29       0.84      0.61      0.71       100\n",
      "          30       1.00      1.00      1.00       100\n",
      "          31       0.74      0.86      0.79       100\n",
      "          32       0.99      1.00      1.00       100\n",
      "          33       0.80      0.94      0.87       100\n",
      "          34       0.73      0.82      0.77       100\n",
      "          35       0.80      0.80      0.80       100\n",
      "          36       0.93      0.62      0.74       100\n",
      "          37       0.90      0.90      0.90       100\n",
      "          38       0.89      0.77      0.82       100\n",
      "          39       0.90      0.91      0.91       100\n",
      "          40       0.97      0.97      0.97       100\n",
      "          41       0.98      0.99      0.99       100\n",
      "          42       0.97      0.97      0.97       100\n",
      "          43       0.82      0.91      0.86       100\n",
      "          44       0.96      0.91      0.93       100\n",
      "          45       0.79      0.80      0.80       100\n",
      "          46       0.96      0.99      0.98       100\n",
      "          47       0.96      0.73      0.83       100\n",
      "          48       0.94      0.98      0.96       100\n",
      "          49       0.92      0.96      0.94       100\n",
      "          50       0.80      0.74      0.77       100\n",
      "          51       0.94      0.91      0.92       100\n",
      "          52       0.82      0.92      0.87       100\n",
      "          53       0.72      0.60      0.66       100\n",
      "          54       0.61      0.74      0.67       100\n",
      "          55       0.80      0.92      0.86       100\n",
      "          56       0.90      0.90      0.90       100\n",
      "          57       0.81      0.82      0.82       100\n",
      "          58       0.75      0.83      0.79       100\n",
      "          59       0.88      0.73      0.80       100\n",
      "          60       0.93      0.92      0.92       100\n",
      "          61       0.88      0.91      0.89       100\n",
      "          62       0.95      0.93      0.94       100\n",
      "          63       0.97      0.88      0.92       100\n",
      "          64       0.96      0.95      0.95       100\n",
      "          65       0.88      0.97      0.92       100\n",
      "          66       0.98      0.92      0.95       100\n",
      "          67       0.97      0.90      0.93       100\n",
      "          68       0.77      0.88      0.82       100\n",
      "          69       0.98      0.96      0.97       100\n",
      "          70       0.71      0.67      0.69       100\n",
      "          71       0.74      0.74      0.74       100\n",
      "          72       0.79      0.90      0.84       100\n",
      "          73       1.00      0.96      0.98       100\n",
      "          74       0.91      0.96      0.93       100\n",
      "          75       0.94      0.97      0.96       100\n",
      "          76       0.85      0.88      0.87       100\n",
      "          77       0.75      0.92      0.83       100\n",
      "          78       0.99      0.90      0.94       100\n",
      "          79       0.93      0.75      0.83       100\n",
      "          80       1.00      0.95      0.97       100\n",
      "          81       0.98      0.94      0.96       100\n",
      "          82       0.91      0.95      0.93       100\n",
      "          83       0.92      0.97      0.95       100\n",
      "          84       0.75      0.88      0.81       100\n",
      "          85       0.96      0.94      0.95       100\n",
      "          86       0.91      0.79      0.84       100\n",
      "          87       0.97      0.72      0.83       100\n",
      "          88       0.96      0.98      0.97       100\n",
      "          89       0.80      0.65      0.72       100\n",
      "          90       0.89      1.00      0.94       100\n",
      "          91       0.94      0.79      0.86       100\n",
      "          92       0.92      0.82      0.87       100\n",
      "          93       0.97      1.00      0.99       100\n",
      "          94       0.91      0.97      0.94       100\n",
      "          95       0.82      0.83      0.83       100\n",
      "          96       0.95      0.97      0.96       100\n",
      "          97       1.00      0.99      0.99       100\n",
      "          98       0.91      0.96      0.93       100\n",
      "          99       0.96      0.82      0.89       100\n",
      "         100       0.93      0.92      0.92       100\n",
      "         101       0.84      0.92      0.88       100\n",
      "         102       0.94      0.96      0.95       100\n",
      "         103       0.91      0.91      0.91       100\n",
      "         104       0.82      0.94      0.88       100\n",
      "         105       0.92      0.80      0.86       100\n",
      "         106       0.93      0.98      0.96       100\n",
      "         107       0.89      0.86      0.87       100\n",
      "         108       0.89      0.87      0.88       100\n",
      "         109       0.88      0.84      0.86       100\n",
      "         110       0.81      0.87      0.84       100\n",
      "         111       0.93      1.00      0.96       100\n",
      "         112       0.89      0.91      0.90       100\n",
      "         113       0.91      0.87      0.89       100\n",
      "         114       0.91      0.91      0.91       100\n",
      "         115       1.00      1.00      1.00       100\n",
      "         116       0.95      0.92      0.93       100\n",
      "         117       0.82      0.89      0.86       100\n",
      "         118       0.92      0.99      0.95       100\n",
      "         119       1.00      0.99      0.99       100\n",
      "         120       0.76      0.87      0.81       100\n",
      "         121       0.95      0.75      0.84       100\n",
      "         122       0.94      0.96      0.95       100\n",
      "         123       0.88      0.82      0.85       100\n",
      "         124       1.00      0.94      0.97       100\n",
      "         125       0.85      0.93      0.89       100\n",
      "         126       0.79      0.80      0.80       100\n",
      "         127       0.99      0.98      0.98       100\n",
      "         128       0.84      0.81      0.83       100\n",
      "         129       1.00      0.97      0.98       100\n",
      "         130       0.87      0.71      0.78       100\n",
      "         131       0.94      0.92      0.93       100\n",
      "         132       0.97      0.97      0.97       100\n",
      "         133       0.92      0.97      0.94       100\n",
      "         134       0.98      0.99      0.99       100\n",
      "         135       0.93      0.93      0.93       100\n",
      "         136       0.95      0.84      0.89       100\n",
      "         137       0.86      0.95      0.90       100\n",
      "         138       0.97      0.97      0.97       100\n",
      "         139       0.95      0.89      0.92       100\n",
      "         140       0.99      0.81      0.89       100\n",
      "         141       0.96      0.96      0.96       100\n",
      "         142       0.89      0.84      0.87       100\n",
      "         143       0.98      0.94      0.96       100\n",
      "         144       0.93      0.93      0.93       100\n",
      "         145       0.91      0.86      0.89       100\n",
      "         146       0.83      0.92      0.87       100\n",
      "         147       0.80      0.98      0.88       100\n",
      "         148       0.98      0.92      0.95       100\n",
      "         149       0.78      0.82      0.80       100\n",
      "         150       0.99      1.00      1.00       100\n",
      "         151       0.82      0.76      0.79       100\n",
      "         152       0.93      0.89      0.91       100\n",
      "         153       0.96      0.99      0.98       100\n",
      "         154       0.91      0.89      0.90       100\n",
      "         155       0.80      0.94      0.87       100\n",
      "         156       0.92      0.95      0.94       100\n",
      "         157       0.99      1.00      1.00       100\n",
      "         158       0.90      0.85      0.88       100\n",
      "         159       0.96      0.81      0.88       100\n",
      "         160       0.74      0.70      0.72       100\n",
      "\n",
      "    accuracy                           0.90     16100\n",
      "   macro avg       0.90      0.90      0.90     16100\n",
      "weighted avg       0.90      0.90      0.90     16100\n",
      "\n"
     ]
    }
   ],
   "source": [
    "print(classification_report(y_test,predictions))"
   ]
  }
 ],
 "metadata": {
  "kernelspec": {
   "display_name": "gputest",
   "language": "python",
   "name": "gputest"
  },
  "language_info": {
   "codemirror_mode": {
    "name": "ipython",
    "version": 3
   },
   "file_extension": ".py",
   "mimetype": "text/x-python",
   "name": "python",
   "nbconvert_exporter": "python",
   "pygments_lexer": "ipython3",
   "version": "3.8.5"
  }
 },
 "nbformat": 4,
 "nbformat_minor": 5
}
